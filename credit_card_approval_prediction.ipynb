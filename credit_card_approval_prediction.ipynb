{
  "nbformat": 4,
  "nbformat_minor": 0,
  "metadata": {
    "colab": {
      "name": "credit-card-approval-prediction.ipynb",
      "provenance": [],
      "collapsed_sections": [],
      "authorship_tag": "ABX9TyM1BMBPi2/YeownoosjWbOx",
      "include_colab_link": true
    },
    "kernelspec": {
      "name": "python3",
      "display_name": "Python 3"
    },
    "language_info": {
      "name": "python"
    }
  },
  "cells": [
    {
      "cell_type": "markdown",
      "metadata": {
        "id": "view-in-github",
        "colab_type": "text"
      },
      "source": [
        "<a href=\"https://colab.research.google.com/github/alvin-98/credit-card-approval-prediction/blob/main/credit_card_approval_prediction.ipynb\" target=\"_parent\"><img src=\"https://colab.research.google.com/assets/colab-badge.svg\" alt=\"Open In Colab\"/></a>"
      ]
    },
    {
      "cell_type": "markdown",
      "metadata": {
        "id": "nAmK2h-uLfIQ"
      },
      "source": [
        "##Credit Card Approval Prediction Based on Credit Card Application Data using Logistic Regression \n",
        "#####*A DataCamp Project*\n"
      ]
    },
    {
      "cell_type": "markdown",
      "metadata": {
        "id": "W7iKHLrMNso9"
      },
      "source": [
        "####Loading and exploring data"
      ]
    },
    {
      "cell_type": "code",
      "metadata": {
        "colab": {
          "base_uri": "https://localhost:8080/",
          "height": 204
        },
        "id": "WPKZJoizV47F",
        "outputId": "8fa00d36-00b5-44a5-ea64-e40259b8ca7d"
      },
      "source": [
        "import pandas as pd\n",
        "ip_data = pd.read_csv(\"crx.data\", header=None)\n",
        "ip_data.head()"
      ],
      "execution_count": 28,
      "outputs": [
        {
          "output_type": "execute_result",
          "data": {
            "text/html": [
              "<div>\n",
              "<style scoped>\n",
              "    .dataframe tbody tr th:only-of-type {\n",
              "        vertical-align: middle;\n",
              "    }\n",
              "\n",
              "    .dataframe tbody tr th {\n",
              "        vertical-align: top;\n",
              "    }\n",
              "\n",
              "    .dataframe thead th {\n",
              "        text-align: right;\n",
              "    }\n",
              "</style>\n",
              "<table border=\"1\" class=\"dataframe\">\n",
              "  <thead>\n",
              "    <tr style=\"text-align: right;\">\n",
              "      <th></th>\n",
              "      <th>0</th>\n",
              "      <th>1</th>\n",
              "      <th>2</th>\n",
              "      <th>3</th>\n",
              "      <th>4</th>\n",
              "      <th>5</th>\n",
              "      <th>6</th>\n",
              "      <th>7</th>\n",
              "      <th>8</th>\n",
              "      <th>9</th>\n",
              "      <th>10</th>\n",
              "      <th>11</th>\n",
              "      <th>12</th>\n",
              "      <th>13</th>\n",
              "      <th>14</th>\n",
              "      <th>15</th>\n",
              "    </tr>\n",
              "  </thead>\n",
              "  <tbody>\n",
              "    <tr>\n",
              "      <th>0</th>\n",
              "      <td>b</td>\n",
              "      <td>30.83</td>\n",
              "      <td>0.000</td>\n",
              "      <td>u</td>\n",
              "      <td>g</td>\n",
              "      <td>w</td>\n",
              "      <td>v</td>\n",
              "      <td>1.25</td>\n",
              "      <td>t</td>\n",
              "      <td>t</td>\n",
              "      <td>1</td>\n",
              "      <td>f</td>\n",
              "      <td>g</td>\n",
              "      <td>00202</td>\n",
              "      <td>0</td>\n",
              "      <td>+</td>\n",
              "    </tr>\n",
              "    <tr>\n",
              "      <th>1</th>\n",
              "      <td>a</td>\n",
              "      <td>58.67</td>\n",
              "      <td>4.460</td>\n",
              "      <td>u</td>\n",
              "      <td>g</td>\n",
              "      <td>q</td>\n",
              "      <td>h</td>\n",
              "      <td>3.04</td>\n",
              "      <td>t</td>\n",
              "      <td>t</td>\n",
              "      <td>6</td>\n",
              "      <td>f</td>\n",
              "      <td>g</td>\n",
              "      <td>00043</td>\n",
              "      <td>560</td>\n",
              "      <td>+</td>\n",
              "    </tr>\n",
              "    <tr>\n",
              "      <th>2</th>\n",
              "      <td>a</td>\n",
              "      <td>24.50</td>\n",
              "      <td>0.500</td>\n",
              "      <td>u</td>\n",
              "      <td>g</td>\n",
              "      <td>q</td>\n",
              "      <td>h</td>\n",
              "      <td>1.50</td>\n",
              "      <td>t</td>\n",
              "      <td>f</td>\n",
              "      <td>0</td>\n",
              "      <td>f</td>\n",
              "      <td>g</td>\n",
              "      <td>00280</td>\n",
              "      <td>824</td>\n",
              "      <td>+</td>\n",
              "    </tr>\n",
              "    <tr>\n",
              "      <th>3</th>\n",
              "      <td>b</td>\n",
              "      <td>27.83</td>\n",
              "      <td>1.540</td>\n",
              "      <td>u</td>\n",
              "      <td>g</td>\n",
              "      <td>w</td>\n",
              "      <td>v</td>\n",
              "      <td>3.75</td>\n",
              "      <td>t</td>\n",
              "      <td>t</td>\n",
              "      <td>5</td>\n",
              "      <td>t</td>\n",
              "      <td>g</td>\n",
              "      <td>00100</td>\n",
              "      <td>3</td>\n",
              "      <td>+</td>\n",
              "    </tr>\n",
              "    <tr>\n",
              "      <th>4</th>\n",
              "      <td>b</td>\n",
              "      <td>20.17</td>\n",
              "      <td>5.625</td>\n",
              "      <td>u</td>\n",
              "      <td>g</td>\n",
              "      <td>w</td>\n",
              "      <td>v</td>\n",
              "      <td>1.71</td>\n",
              "      <td>t</td>\n",
              "      <td>f</td>\n",
              "      <td>0</td>\n",
              "      <td>f</td>\n",
              "      <td>s</td>\n",
              "      <td>00120</td>\n",
              "      <td>0</td>\n",
              "      <td>+</td>\n",
              "    </tr>\n",
              "  </tbody>\n",
              "</table>\n",
              "</div>"
            ],
            "text/plain": [
              "  0      1      2  3  4  5  6     7  8  9   10 11 12     13   14 15\n",
              "0  b  30.83  0.000  u  g  w  v  1.25  t  t   1  f  g  00202    0  +\n",
              "1  a  58.67  4.460  u  g  q  h  3.04  t  t   6  f  g  00043  560  +\n",
              "2  a  24.50  0.500  u  g  q  h  1.50  t  f   0  f  g  00280  824  +\n",
              "3  b  27.83  1.540  u  g  w  v  3.75  t  t   5  t  g  00100    3  +\n",
              "4  b  20.17  5.625  u  g  w  v  1.71  t  f   0  f  s  00120    0  +"
            ]
          },
          "metadata": {},
          "execution_count": 28
        }
      ]
    },
    {
      "cell_type": "code",
      "metadata": {
        "id": "UWOrEbDB3YKZ"
      },
      "source": [
        "ip_data_description = ip_data.describe()\n",
        "print(ip_data_description)\n",
        "\n",
        "print(\"\\n\")\n",
        "\n",
        "ip_data_info = ip_data.info()\n",
        "print(ip_data_info)\n",
        "\n",
        "print(\"\\n\")\n",
        "\n",
        "ip_data.tail(17)"
      ],
      "execution_count": null,
      "outputs": []
    },
    {
      "cell_type": "markdown",
      "metadata": {
        "id": "FUMgxb5QPnCH"
      },
      "source": [
        "####Pre-processing"
      ]
    },
    {
      "cell_type": "code",
      "metadata": {
        "id": "q60zvrY-3-gO"
      },
      "source": [
        "import numpy as np\n",
        "\n",
        "print(ip_data.tail(17))\n",
        "\n",
        "ip_data = ip_data.replace(to_replace=\"?\", value=np.nan)\n",
        "\n",
        "print(ip_data.tail(17))"
      ],
      "execution_count": null,
      "outputs": []
    },
    {
      "cell_type": "code",
      "metadata": {
        "id": "o4g6lkv94PYS"
      },
      "source": [
        "ip_data.fillna(ip_data.mean(), inplace=True)\n",
        "\n",
        "print(ip_data.isnull().sum())"
      ],
      "execution_count": null,
      "outputs": []
    },
    {
      "cell_type": "code",
      "metadata": {
        "id": "2WM6DVFl4YQM"
      },
      "source": [
        "for col in ip_data.columns:\n",
        "    if ip_data[col].dtypes == 'object':\n",
        "        ip_data = ip_data.fillna(ip_data[col].value_counts().index[0])\n",
        "\n",
        "print(ip_data.isnull().sum())"
      ],
      "execution_count": null,
      "outputs": []
    },
    {
      "cell_type": "markdown",
      "metadata": {
        "id": "GIIAqZILP89F"
      },
      "source": [
        "####Converting non-numeric data into numeric data"
      ]
    },
    {
      "cell_type": "code",
      "metadata": {
        "id": "gPQAjufP4nld"
      },
      "source": [
        "from sklearn.preprocessing import LabelEncoder\n",
        "\n",
        "le=LabelEncoder()\n",
        "\n",
        "for col in ip_data.columns.to_numpy():\n",
        "    if ip_data[col].dtypes=='object':\n",
        "        ip_data[col]=le.fit_transform(ip_data[col])"
      ],
      "execution_count": 31,
      "outputs": []
    },
    {
      "cell_type": "markdown",
      "metadata": {
        "id": "d25At9-7QUMO"
      },
      "source": [
        "####Spliting dataset into training and test data"
      ]
    },
    {
      "cell_type": "code",
      "metadata": {
        "id": "bnZ1dA6UF7Tm"
      },
      "source": [
        "from sklearn.model_selection import train_test_split\n",
        "\n",
        "ip_data = ip_data.drop([11, 13], axis=1)\n",
        "ip_data = ip_data.to_numpy()\n",
        "\n",
        "X,y = ip_data[:,0:12] , ip_data[:,13]\n",
        "\n",
        "X_train, X_test, y_train, y_test = train_test_split(X,y,test_size=.33,random_state=42)"
      ],
      "execution_count": 32,
      "outputs": []
    },
    {
      "cell_type": "markdown",
      "metadata": {
        "id": "ttAruToXQsGM"
      },
      "source": [
        "####Rescaling values"
      ]
    },
    {
      "cell_type": "code",
      "metadata": {
        "id": "kUmHLuCNGJC0"
      },
      "source": [
        "from sklearn.preprocessing import MinMaxScaler\n",
        "\n",
        "scaler = MinMaxScaler(feature_range=(0,1))\n",
        "rescaledX_train = scaler.fit_transform(X_train)\n",
        "rescaledX_test = scaler.fit_transform(X_test)"
      ],
      "execution_count": 33,
      "outputs": []
    },
    {
      "cell_type": "markdown",
      "metadata": {
        "id": "ea97B9NMREhg"
      },
      "source": [
        "####Training logistic regression model"
      ]
    },
    {
      "cell_type": "code",
      "metadata": {
        "id": "2_5HV9POGLju"
      },
      "source": [
        "from sklearn.linear_model import LogisticRegression\n",
        "\n",
        "logreg = LogisticRegression()\n",
        "\n",
        "logreg.fit(rescaledX_train, y_train)"
      ],
      "execution_count": null,
      "outputs": []
    },
    {
      "cell_type": "markdown",
      "metadata": {
        "id": "Q16h--qwRMuT"
      },
      "source": [
        "####Determining the accuracy of the model "
      ]
    },
    {
      "cell_type": "code",
      "metadata": {
        "colab": {
          "base_uri": "https://localhost:8080/"
        },
        "id": "B2nTkrAjGOgN",
        "outputId": "ccde7d4d-ab36-429d-b87f-6e09b39db8a3"
      },
      "source": [
        "from sklearn.metrics import confusion_matrix, accuracy_score\n",
        "\n",
        "y_pred = logreg.predict(rescaledX_test)\n",
        "\n",
        "print(\"Accuracy of logistic regression classifier: \", accuracy_score(y_test, y_pred))\n",
        "\n",
        "print(confusion_matrix(y_test, y_pred))"
      ],
      "execution_count": 35,
      "outputs": [
        {
          "output_type": "stream",
          "name": "stdout",
          "text": [
            "Accuracy of logistic regression classifier:  0.8333333333333334\n",
            "[[92 11]\n",
            " [27 98]]\n"
          ]
        }
      ]
    },
    {
      "cell_type": "markdown",
      "metadata": {
        "id": "5JOGpP8QRp1R"
      },
      "source": [
        "####Grid searching and making the model better"
      ]
    },
    {
      "cell_type": "code",
      "metadata": {
        "id": "87NlYCH5GSzt"
      },
      "source": [
        "from sklearn.model_selection import GridSearchCV\n",
        "\n",
        "tol = [0.01, 0.001, 0.0001]\n",
        "max_iter = [100, 150, 200]\n",
        "\n",
        "param_grid = dict(tol = [*tol], max_iter = [*max_iter])"
      ],
      "execution_count": 36,
      "outputs": []
    },
    {
      "cell_type": "code",
      "metadata": {
        "colab": {
          "base_uri": "https://localhost:8080/"
        },
        "id": "QF4sfiVqGUd1",
        "outputId": "df9a0651-23c5-45f8-8f04-30d3c68d90af"
      },
      "source": [
        "grid_model = GridSearchCV(estimator=logreg, param_grid=param_grid, cv=5)\n",
        "\n",
        "rescaledX = scaler.fit_transform(X)\n",
        "\n",
        "grid_model_result = grid_model.fit(rescaledX, y)\n",
        "\n",
        "best_score, best_params = grid_model_result.best_score_, grid_model_result.best_params_\n",
        "print(\"Best: %f using %s\" % (best_score, best_params))"
      ],
      "execution_count": 37,
      "outputs": [
        {
          "output_type": "stream",
          "name": "stdout",
          "text": [
            "Best: 0.850725 using {'max_iter': 100, 'tol': 0.01}\n"
          ]
        }
      ]
    }
  ]
}